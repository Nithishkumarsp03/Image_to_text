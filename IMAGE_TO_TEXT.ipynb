{
 "cells": [
  {
   "cell_type": "code",
   "execution_count": 6,
   "id": "ab827a6b",
   "metadata": {
    "tags": []
   },
   "outputs": [],
   "source": [
    "import cv2\n",
    "import PIL\n",
    "import pytesseract\n",
    "import numpy as np"
   ]
  },
  {
   "cell_type": "code",
   "execution_count": 7,
   "id": "6823c5bd",
   "metadata": {
    "tags": []
   },
   "outputs": [],
   "source": [
    "pytesseract.pytesseract.tesseract_cmd =r\"C:\\Program Files\\Tesseract-OCR\\tesseract.exe\""
   ]
  },
  {
   "cell_type": "code",
   "execution_count": 8,
   "id": "174818f0-51e5-4e13-a81f-9a0deba690b2",
   "metadata": {
    "tags": []
   },
   "outputs": [
    {
     "name": "stdout",
     "output_type": "stream",
     "text": [
      "OASIS RESTAURANT\n",
      "\n",
      "COIMBATORE MAIN ROAD, METTUPALAYAM\n",
      "\n",
      "PINCODE-641 301 PH- 8903342911\n",
      "\n",
      "SNO ITEM QUANTITY RATE TOTAL\n",
      "1 DOSA 2 10.00 20.00\n",
      "2 IDLY 5 5.00 25.00\n",
      "3 VADA 10 7.00 70.00\n",
      "\n",
      "NET TOTAL: 115.00\n",
      "\n"
     ]
    }
   ],
   "source": [
    "text=pytesseract.image_to_string(PIL.Image.open(r\"C:\\Users\\SP NITHISH KRISHNA\\Downloads\\OASIS RESTAURANT.jpg\"))\n",
    "print(text)"
   ]
  },
  {
   "cell_type": "code",
   "execution_count": 9,
   "id": "2a0ce6d6-cb5b-44c2-b7c4-0969bb0d71bc",
   "metadata": {
    "tags": []
   },
   "outputs": [],
   "source": [
    "#image=cv2.imread(r\"C:\\Users\\SP NITHISH KRISHNA\\Downloads\\OASIS RESTAURANT.jpg\",0)\n",
    "#cv2.imshow(\"Img\",image)\n",
    "#key=cv2.waitKey(0)\n",
    "#cv2.destroyAllWindows()"
   ]
  },
  {
   "cell_type": "code",
   "execution_count": null,
   "id": "51c93da1-25ac-4437-ad1c-fbce199c6c5e",
   "metadata": {},
   "outputs": [],
   "source": []
  }
 ],
 "metadata": {
  "kernelspec": {
   "display_name": "Python 3 (ipykernel)",
   "language": "python",
   "name": "python3"
  },
  "language_info": {
   "codemirror_mode": {
    "name": "ipython",
    "version": 3
   },
   "file_extension": ".py",
   "mimetype": "text/x-python",
   "name": "python",
   "nbconvert_exporter": "python",
   "pygments_lexer": "ipython3",
   "version": "3.11.5"
  }
 },
 "nbformat": 4,
 "nbformat_minor": 5
}
